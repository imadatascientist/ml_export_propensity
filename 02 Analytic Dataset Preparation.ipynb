{
 "cells": [
  {
   "cell_type": "code",
   "execution_count": null,
   "metadata": {
    "application/vnd.databricks.v1+cell": {
     "inputWidgets": {},
     "nuid": "8ea4ba62-20a9-4104-ba94-6857b567596c",
     "showTitle": false,
     "title": ""
    }
   },
   "outputs": [],
   "source": [
    "from pyspark.sql.functions import *\n",
    "from pyspark.sql.types import *\n",
    "import pandas as pd\n",
    "import numpy as np\n",
    "import warnings\n",
    "warnings.filterwarnings('ignore')"
   ]
  },
  {
   "cell_type": "code",
   "execution_count": null,
   "metadata": {
    "application/vnd.databricks.v1+cell": {
     "inputWidgets": {},
     "nuid": "1d3bf353-2793-489c-b38f-895ab1dc110c",
     "showTitle": false,
     "title": ""
    }
   },
   "outputs": [],
   "source": [
    "exporters = spark.sql('select * from workarea.us_export_propensity_exporters')\n",
    "\n",
    "smad = spark.sql('select duns_nbr as duns, load_year as append_year, load_month as append_month from workarea.smad where load_year in (2016, 2017) and load_month = 9')\n",
    "\n",
    "smad2 = smad.join(exporters, on = ['duns', 'append_year', 'append_month'], how = 'left')\n",
    "\n",
    "smad2 = smad2.withColumn('export', when(col('export').isNull(), 0).otherwise(col('export')))\n",
    "\n",
    "non_exporters = smad2.where('export = 0')\n",
    "\n",
    "non_exporters_2016 = non_exporters.where('append_year = 2016')\n",
    "non_exporters_2017 = non_exporters.where('append_year = 2017')\n",
    "\n",
    "sample_non_exporters_2016 = non_exporters_2016.sample(0.001773034219845912)\n",
    "\n",
    "sample_non_exporters_2017 = non_exporters_2017.sample(0.0013545224091702894)\n",
    "\n",
    "sample_non_exporters = sample_non_exporters_2016.union(sample_non_exporters_2017)\n",
    "\n",
    "analytic_dataset = exporters.union(sample_non_exporters)\n",
    "\n",
    "analytic_dataset.write.mode('overwrite').saveAsTable('workarea.us_export_propensity_analytic_dataset')"
   ]
  },
  {
   "cell_type": "code",
   "execution_count": null,
   "metadata": {
    "application/vnd.databricks.v1+cell": {
     "inputWidgets": {},
     "nuid": "294eb5fa-5fde-4a7d-9a64-e027fb195742",
     "showTitle": false,
     "title": ""
    }
   },
   "outputs": [],
   "source": []
  }
 ],
 "metadata": {
  "application/vnd.databricks.v1+notebook": {
   "dashboards": [],
   "language": "python",
   "notebookMetadata": {
    "pythonIndentUnit": 2
   },
   "notebookName": "02 Analytic Dataset Preparation",
   "notebookOrigID": 3973735592133368,
   "widgets": {}
  },
  "kernelspec": {
   "display_name": "Python 3",
   "language": "python",
   "name": "python3"
  },
  "language_info": {
   "codemirror_mode": {
    "name": "ipython",
    "version": 3
   },
   "file_extension": ".py",
   "mimetype": "text/x-python",
   "name": "python",
   "nbconvert_exporter": "python",
   "pygments_lexer": "ipython3",
   "version": "3.6.5"
  }
 },
 "nbformat": 4,
 "nbformat_minor": 1
}
