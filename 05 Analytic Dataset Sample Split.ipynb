{
 "cells": [
  {
   "cell_type": "code",
   "execution_count": null,
   "metadata": {
    "application/vnd.databricks.v1+cell": {
     "inputWidgets": {},
     "nuid": "7e1531c1-7374-4ff9-bc53-00e2b205f666",
     "showTitle": false,
     "title": ""
    }
   },
   "outputs": [],
   "source": [
    "from pyspark.sql.functions import *\n",
    "from pyspark.sql.types import *\n",
    "import pandas as pd\n",
    "import numpy as np\n",
    "import warnings\n",
    "warnings.filterwarnings('ignore')"
   ]
  },
  {
   "cell_type": "code",
   "execution_count": null,
   "metadata": {
    "application/vnd.databricks.v1+cell": {
     "inputWidgets": {},
     "nuid": "19bad75f-d617-4eed-b425-d35e5bf44e76",
     "showTitle": false,
     "title": ""
    }
   },
   "outputs": [],
   "source": [
    "analytic_dataset = spark.sql('select * from workarea.us_export_propensity_analytic_dataset')\n",
    "\n",
    "train, val, test = analytic_dataset.randomSplit([0.6, 0.2, 0.2])\n",
    "\n",
    "train.write.saveAsTable('workarea.us_export_propensity_analytic_dataset_train')\n",
    "\n",
    "val.write.saveAsTable('workarea.us_export_propensity_analytic_dataset_val')\n",
    "\n",
    "test.write.saveAsTable('workarea.us_export_propensity_analytic_dataset_test')"
   ]
  },
  {
   "cell_type": "code",
   "execution_count": null,
   "metadata": {
    "application/vnd.databricks.v1+cell": {
     "inputWidgets": {},
     "nuid": "d8b7353b-8469-45c9-966a-e3c29a720c7e",
     "showTitle": false,
     "title": ""
    }
   },
   "outputs": [],
   "source": []
  }
 ],
 "metadata": {
  "application/vnd.databricks.v1+notebook": {
   "dashboards": [],
   "language": "python",
   "notebookMetadata": {
    "pythonIndentUnit": 2
   },
   "notebookName": "05 Analytic Dataset Sample Split",
   "notebookOrigID": 1087800153311868,
   "widgets": {}
  },
  "kernelspec": {
   "display_name": "Python 3",
   "language": "python",
   "name": "python3"
  },
  "language_info": {
   "codemirror_mode": {
    "name": "ipython",
    "version": 3
   },
   "file_extension": ".py",
   "mimetype": "text/x-python",
   "name": "python",
   "nbconvert_exporter": "python",
   "pygments_lexer": "ipython3",
   "version": "3.6.5"
  }
 },
 "nbformat": 4,
 "nbformat_minor": 1
}
