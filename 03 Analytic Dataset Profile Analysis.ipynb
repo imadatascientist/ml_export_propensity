{
 "cells": [
  {
   "cell_type": "code",
   "execution_count": null,
   "metadata": {
    "application/vnd.databricks.v1+cell": {
     "inputWidgets": {},
     "nuid": "2d1e83ee-da29-4f3b-9270-0e9835e45cbb",
     "showTitle": false,
     "title": ""
    }
   },
   "outputs": [],
   "source": [
    "from pyspark.sql.functions import *\n",
    "from pyspark.sql.types import *"
   ]
  },
  {
   "cell_type": "code",
   "execution_count": null,
   "metadata": {
    "application/vnd.databricks.v1+cell": {
     "inputWidgets": {},
     "nuid": "ef4ce858-d0c4-42a1-b683-40fe784d6fe9",
     "showTitle": false,
     "title": ""
    }
   },
   "outputs": [],
   "source": [
    "analytic_dataset = spark.sql('select * from workarea.us_export_propensity_analytic_dataset')\n",
    "\n",
    "smad = spark.sql('select duns_nbr as duns, alph_terr_code as state, prim_sic_code as sic4, load_year as append_year, load_month as append_month from workarea.smad where load_year in (2016, 2017) and load_month = 9')\n",
    "\n",
    "smad = smad.withColumn('sic2', (smad.sic4.cast(IntegerType()) / 100))\n",
    "smad = smad.withColumn('sic2d', lit(11))\n",
    "smad = smad.withColumn('sic2d', when((col('sic2') > 0) & (col('sic2') <= 9), 1).otherwise(col('sic2d'))) # Agriculture, Forestry, Fishing\n",
    "smad = smad.withColumn('sic2d', when((col('sic2') > 9) & (col('sic2') <= 14), 2).otherwise(col('sic2d'))) # Mining\n",
    "smad = smad.withColumn('sic2d', when((col('sic2') > 14) & (col('sic2') <= 17), 3).otherwise(col('sic2d'))) # Construction\n",
    "smad = smad.withColumn('sic2d', when((col('sic2') > 19) & (col('sic2') <= 39), 4).otherwise(col('sic2d'))) # Manufacturing\n",
    "smad = smad.withColumn('sic2d', when((col('sic2') > 39) & (col('sic2') <= 49), 5).otherwise(col('sic2d'))) # Transportation & Public Utilities\n",
    "smad = smad.withColumn('sic2d', when((col('sic2') > 49) & (col('sic2') <= 51), 6).otherwise(col('sic2d'))) # Wholesale Trade\n",
    "smad = smad.withColumn('sic2d', when((col('sic2') > 51) & (col('sic2') <= 59), 7).otherwise(col('sic2d'))) # Retail Trade\n",
    "smad = smad.withColumn('sic2d', when((col('sic2') > 59) & (col('sic2') <= 67), 8).otherwise(col('sic2d'))) # Finance, Insurance, Real Estate\n",
    "smad = smad.withColumn('sic2d', when((col('sic2') > 69) & (col('sic2') <= 89), 9).otherwise(col('sic2d'))) # Services\n",
    "smad = smad.withColumn('sic2d', when((col('sic2') > 90) & (col('sic2') <= 97), 0).otherwise(col('sic2d'))) # Public Administration\n",
    "\n",
    "analytic_dataset = analytic_dataset.join(smad, on = ['duns', 'append_year', 'append_month'], how = 'left')\n",
    "\n",
    "analytic_dataset = analytic_dataset.withColumn('sic2d', when(col('sic2d').isNull(), 11).otherwise(col('sic2d')))"
   ]
  },
  {
   "cell_type": "code",
   "execution_count": null,
   "metadata": {
    "application/vnd.databricks.v1+cell": {
     "inputWidgets": {},
     "nuid": "9e9779ab-35b3-4bfc-a2ac-7dd25316c376",
     "showTitle": false,
     "title": ""
    }
   },
   "outputs": [],
   "source": [
    "display(analytic_dataset.groupBy('append_year').agg(count('duns'), mean('export')))"
   ]
  },
  {
   "cell_type": "code",
   "execution_count": null,
   "metadata": {
    "application/vnd.databricks.v1+cell": {
     "inputWidgets": {},
     "nuid": "3bb5bb25-e034-449f-81b4-8b8bee412a25",
     "showTitle": false,
     "title": ""
    }
   },
   "outputs": [],
   "source": [
    "display(analytic_dataset.groupBy('sic2d').agg(count('duns'), mean('export')))"
   ]
  },
  {
   "cell_type": "code",
   "execution_count": null,
   "metadata": {
    "application/vnd.databricks.v1+cell": {
     "inputWidgets": {},
     "nuid": "d19b8989-da6e-4bb9-98ee-c1c1bc65aea8",
     "showTitle": false,
     "title": ""
    }
   },
   "outputs": [],
   "source": [
    "display(analytic_dataset.groupBy('state').agg(count('duns'), mean('export')))"
   ]
  },
  {
   "cell_type": "code",
   "execution_count": null,
   "metadata": {
    "application/vnd.databricks.v1+cell": {
     "inputWidgets": {},
     "nuid": "2b38b560-09df-40dd-bd28-8c3386731d61",
     "showTitle": false,
     "title": ""
    }
   },
   "outputs": [],
   "source": []
  }
 ],
 "metadata": {
  "application/vnd.databricks.v1+notebook": {
   "dashboards": [],
   "language": "python",
   "notebookMetadata": {
    "pythonIndentUnit": 2
   },
   "notebookName": "03 Analytic Dataset Profile Analysis",
   "notebookOrigID": 1087800153290483,
   "widgets": {}
  },
  "kernelspec": {
   "display_name": "Python 3",
   "language": "python",
   "name": "python3"
  },
  "language_info": {
   "codemirror_mode": {
    "name": "ipython",
    "version": 3
   },
   "file_extension": ".py",
   "mimetype": "text/x-python",
   "name": "python",
   "nbconvert_exporter": "python",
   "pygments_lexer": "ipython3",
   "version": "3.6.5"
  }
 },
 "nbformat": 4,
 "nbformat_minor": 1
}
