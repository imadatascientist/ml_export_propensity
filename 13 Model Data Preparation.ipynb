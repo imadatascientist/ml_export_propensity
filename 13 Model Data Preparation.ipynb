{
 "cells": [
  {
   "cell_type": "code",
   "execution_count": null,
   "metadata": {
    "application/vnd.databricks.v1+cell": {
     "inputWidgets": {},
     "nuid": "63bfda04-e2c7-44c2-b967-c5c84a30f332",
     "showTitle": false,
     "title": ""
    }
   },
   "outputs": [],
   "source": [
    "from pyspark.sql.functions import *\n",
    "from pyspark.sql.types import *"
   ]
  },
  {
   "cell_type": "code",
   "execution_count": null,
   "metadata": {
    "application/vnd.databricks.v1+cell": {
     "inputWidgets": {},
     "nuid": "2d9916db-7470-405b-8451-abca68bfa511",
     "showTitle": false,
     "title": ""
    }
   },
   "outputs": [],
   "source": [
    "spark.conf.set(\"spark.sql.legacy.allowCreatingManagedTableUsingNonemptyLocation\",\"true\")\n",
    "spark.conf.set(\"spark.sql.sources.partitionOverwriteMode\", \"dynamic\")\n",
    "spark.conf.set(\"spark.sql.parquet.writeLegacyFormat\", \"true\")\n",
    "spark.conf.set(\"spark.sql.sources.partitionOverwriteMode\", \"dynamic\")"
   ]
  },
  {
   "cell_type": "code",
   "execution_count": null,
   "metadata": {
    "application/vnd.databricks.v1+cell": {
     "inputWidgets": {},
     "nuid": "df8d8ee2-9d58-4b34-98bf-0ab54186a968",
     "showTitle": false,
     "title": ""
    }
   },
   "outputs": [],
   "source": [
    "df = spark.sql('select * from workarea.us_export_propensity_analytic_dataset')"
   ]
  },
  {
   "cell_type": "code",
   "execution_count": null,
   "metadata": {
    "application/vnd.databricks.v1+cell": {
     "inputWidgets": {},
     "nuid": "63a18573-bfb9-4979-b482-a939b465f266",
     "showTitle": false,
     "title": ""
    }
   },
   "outputs": [],
   "source": [
    "raw = [\n",
    "'duns',\n",
    "'totempl',\n",
    "'comptype',\n",
    "'basecat',\n",
    "'sic4',\n",
    "'basedate',\n",
    "'arch_dte',\n",
    "'npayexp',\n",
    "'hicdtavg',\n",
    "'hicdtmax',\n",
    "'pydx_1',\n",
    "'pydx_2',\n",
    "'pydx_3',\n",
    "'pydx_4',\n",
    "'pydx_5',\n",
    "'pydx_6',\n",
    "'pydx_7',\n",
    "'pydx_8',\n",
    "'pydx_9',\n",
    "'pydx_10',\n",
    "'pydx_11',\n",
    "'pydx_12',\n",
    "'pydx_13',\n",
    "'pydx_14',\n",
    "'pydx_15',\n",
    "'pydx_16',\n",
    "'pydx_17',\n",
    "'pydx_18',\n",
    "'pydx_19',\n",
    "'pydx_20',\n",
    "'pydx_21',\n",
    "'pydx_22',\n",
    "'pydx_23',\n",
    "'pydx_24',\n",
    "'cpoints',\n",
    "'fspoints',\n",
    "'loc_ind',\n",
    "'liens',\n",
    "'suits',\n",
    "'judgmnts',\n",
    "'pmt_expr_cnt',\n",
    "'hi_cr_tot_amt',\n",
    "'saty_pmt_expr_cnt',\n",
    "'emp_at_locn_cnt',\n",
    "'rec_typ_code',\n",
    "'pydx6_mo_ago_scr',\n",
    "'inds_norm_pydx_scr',\n",
    "'womn_ownd_indc',\n",
    "'facy_sq_ft_msmt',\n",
    "'bus_owrp_code',\n",
    "'ucc_flng_3yr_cnt',\n",
    "'tot_ann_sls_amt',\n",
    "'hl_ceo_chg_code',\n",
    "'miny_ownd_indc',\n",
    "'impt_expt_code',\n",
    "'pub_pvt_co_indc',\n",
    "'locn_code',\n",
    "'fam_mbr_cnt',\n",
    "'sml_bus_indc',\n",
    "'acct_cnt',\n",
    "'extl_url_on_hmpg_cnt',\n",
    "'res_pop_code',\n",
    "'gndr_code',\n",
    "'bkcy_indc',\n",
    "'net_wrth_amt_sign',\n",
    "'tot_12_mo_acct',\n",
    "'tot_12_mo_pastdue_acc',\n",
    "'hi_cr_3_mo',\n",
    "'tot_12_mo_pastdue_acc',\n",
    "'mths_snc_hi_pdue',\n",
    "'pdx_12mth_curr',\n",
    "'tot_avg_past30p_12mths',\n",
    "'tot_avg_past90p_12mths',\n",
    "'spnd_buyers_12m',\n",
    "'spnd_min_wsfo_12m',\n",
    "'spnd_dx13_12m',\n",
    "'spnd_avapo_r_12m',\n",
    "'spnd_avapo_f_12m',\n",
    "'spnd_max_avapo_o_12m',\n",
    "'spnd_dllrs_o_12m',\n",
    "'spnd_dllrs_12m',\n",
    "'spnd_max_avapo_f_12m',\n",
    "'spnd_max_avapo_r_12m',\n",
    "'spnd_avapo_12m',\n",
    "'spnd_dx40_b_12m',\n",
    "'ba_count_info_src_12m',\n",
    "'ba_cr_activity_12m',\n",
    "'ba_cr_cat_insur_12m',\n",
    "'ba_cr_cat_marketing_12m',\n",
    "'ba_cr_stability_12m',\n",
    "'ba_sum_excl_12m',\n",
    "'ba_sum_info_gov_12m',\n",
    "'ba_cnt_cr_12m',\n",
    "'ba_cr_cat_other_12m',\n",
    "'ba_cr_cat_online_3m',\n",
    "'drp_npayexp_loc_decile',\n",
    "'drp_pexp_cr_loc_decile',\n",
    "'drp_paydex1_loc_decile',\n",
    "'drp_pslow90p_loc_decile',\n",
    "'drp_sales_loc_decile',\n",
    "'drp_tlp_score_loc_decile',\n",
    "'loc_avg_npayexp',\n",
    "'loc_avg_dol30pl',\n",
    "'location_growth_score',\n",
    "'loc_pct_rent_1',\n",
    "'loc_avg_sales',\n",
    "'loc_pct_hqbr_b',\n",
    "'loc_pct_hqbr_r',\n",
    "'loc_pct_hqbr_s',\n",
    "'loc_pct_comptype_g',\n",
    "'loc_pct_via3_robust',\n",
    "'chg_phon',\n",
    "'chg_tot_emp',\n",
    "'inq_sic50_inq_24m',\n",
    "'inq_inquirer_sic_6_60m',\n",
    "'inq_inquirer_sic_0_60m',\n",
    "'inq_inquirer_sic_9_60m',\n",
    "'inq_inquirer_sic_5_60m',\n",
    "'inq_sic47_inq_60m',\n",
    "'inq_inquiry_duns_48m',\n",
    "'gctrs_cnt_unq_customer_country',\n",
    "'gctrs_cnt_unq_yrs',\n",
    "'gctrs_ttl_signal_3yrs',\n",
    "'ind_gctrs_3yrs',  \n",
    "'append_year',\n",
    "'append_month',\n",
    "'export']\n",
    "derived = [\n",
    "'npayexp',\n",
    "'satis',\n",
    "'emplhere',\n",
    "'numpaydex7',\n",
    "'sales',\n",
    "'bnkrpt',\n",
    "'nnetwrthsign',\n",
    "'ngndr',\n",
    "'nlocn',\n",
    "'nimptexpt',\n",
    "'nbusowrp',\n",
    "'nrectyp',\n",
    "'sml_bus_ind',\n",
    "'public_ind',\n",
    "'womn_ownd_ind',\n",
    "'miny_ownd_ind'\n",
    "'m60date',\n",
    "'hqbr_ind',\n",
    "'1983_date',\n",
    "'univ_ind',\n",
    "'pydexvar',\n",
    "'lien_ind',\n",
    "'suits_ind',\n",
    "'judg_ind',\n",
    "'hca_pct_hcm',\n",
    "'ncomptype',\n",
    "'nloc',\n",
    "'location_cluster_score1',\n",
    "'location_cluster_score2',\n",
    "'sic4_score',\n",
    "'exp_prop_bus_nme_ind']\n",
    "input_vars = [\n",
    "'duns',\n",
    "'totempl',\n",
    "'cpoints',\n",
    "'fspoints',\n",
    "'hi_cr_tot_amt',\n",
    "'inds_norm_pydx_scr',\n",
    "'facy_sq_ft_msmt',\n",
    "'ucc_flng_3yr_cnt',\n",
    "'hl_ceo_chg_code',\n",
    "'fam_mbr_cnt',\n",
    "'acct_cnt',\n",
    "'extl_url_on_hmpg_cnt',\n",
    "'res_pop_code',\n",
    "'tot_12_mo_acct',\n",
    "'tot_amt_owg_rcnt',\n",
    "'hi_cr_3_mo',\n",
    "'tot_12_mo_pastdue_acc',\n",
    "'mths_snc_hi_pdue',\n",
    "'pdx_12mth_curr',\n",
    "'tot_avg_past30p_12mths',\n",
    "'tot_avg_past90p_12mths',\n",
    "'spnd_buyers_12m',\n",
    "'spnd_min_wsfo_12m',\n",
    "'spnd_dx13_12m',\n",
    "'spnd_avapo_r_12m',\n",
    "'spnd_avapo_f_12m',\n",
    "'spnd_max_avapo_o_12m',\n",
    "'spnd_dllrs_o_12m',\n",
    "'spnd_dllrs_12m',\n",
    "'spnd_max_avapo_f_12m',\n",
    "'spnd_max_avapo_r_12m',\n",
    "'spnd_avapo_12m',\n",
    "'spnd_dx40_b_12m',\n",
    "'ba_count_info_src_12m',\n",
    "'ba_cr_activity_12m',\n",
    "'ba_cr_cat_insur_12m',\n",
    "'ba_cr_cat_marketing_12m',\n",
    "'ba_cr_stability_12m',\n",
    "'ba_sum_excl_12m',\n",
    "'ba_sum_info_gov_12m',\n",
    "'ba_cnt_cr_12m',\n",
    "'ba_cr_cat_other_12m',\n",
    "'ba_cr_cat_online_3m',\n",
    "'drp_npayexp_loc_decile',\n",
    "'drp_pexp_cr_loc_decile',\n",
    "'drp_paydex1_loc_decile',\n",
    "'drp_pslow90p_loc_decile',\n",
    "'drp_sales_loc_decile',\n",
    "'drp_tlp_score_loc_decile',\n",
    "'loc_avg_npayexp',\n",
    "'loc_avg_dol30pl',\n",
    "'location_growth_score',\n",
    "'loc_pct_rent_1',\n",
    "'loc_avg_sales',\n",
    "'loc_pct_hqbr_b',\n",
    "'loc_pct_hqbr_r',\n",
    "'loc_pct_hqbr_s',\n",
    "'loc_pct_comptype_g',\n",
    "'loc_pct_via3_robust',\n",
    "'chg_phon',\n",
    "'chg_tot_emp',\n",
    "'inq_sic50_inq_24m',\n",
    "'inq_inquirer_sic_6_60m',\n",
    "'inq_inquirer_sic_0_60m',\n",
    "'inq_inquirer_sic_9_60m',\n",
    "'inq_inquirer_sic_5_60m',\n",
    "'inq_sic47_inq_60m',\n",
    "'inq_inquiry_duns_48m',\n",
    "'gctrs_cnt_unq_customer_country',\n",
    "'gctrs_cnt_unq_yrs',\n",
    "'gctrs_ttl_signal_3yrs',\n",
    "'ind_gctrs_3yrs', \n",
    "'npayexp',\n",
    "'satis',\n",
    "'emplhere',\n",
    "'numpaydex7',\n",
    "'sales',\n",
    "'bnkrpt',\n",
    "'nnetwrthsign',\n",
    "'ngndr',\n",
    "'nlocn',\n",
    "'nimptexpt',\n",
    "'nbusowrp',\n",
    "'nrectyp',\n",
    "'sml_bus_ind',\n",
    "'public_ind',\n",
    "'womn_ownd_ind',\n",
    "'miny_ownd_ind'\n",
    "'univ_ind',\n",
    "'pydexvar',\n",
    "'lien_ind',\n",
    "'suits_ind',\n",
    "'judg_ind',\n",
    "'hca_pct_hcm',\n",
    "'ncomptype',\n",
    "'nloc',\n",
    "'location_cluster_score1',\n",
    "'location_cluster_score2',\n",
    "'sic4_score',\n",
    "'exp_prop_bus_nme_ind',\n",
    "'sample_type',\n",
    "'export',\n",
    "'append_year',\n",
    "'append_month']"
   ]
  },
  {
   "cell_type": "code",
   "execution_count": null,
   "metadata": {
    "application/vnd.databricks.v1+cell": {
     "inputWidgets": {},
     "nuid": "c6829abc-79f0-44ff-bff7-c7533d982eea",
     "showTitle": false,
     "title": ""
    }
   },
   "outputs": [],
   "source": [
    "smad_table = 'workarea.smad'\n",
    "csad_table = 'workarea.csad'\n",
    "dtri_table = 'workarea.dtri'\n",
    "da_businessactivity_table = 'workarea.da_businessactivity'\n",
    "da_inquiries_table = 'workarea.da_inquiries'\n",
    "icm_table = 'workarea.icm'\n",
    "da_spend_table = 'workarea.da_spend'\n",
    "gctrs_signals_table = 'workarea.gctrs_signals'\n",
    "final_loc_intel_monthly_table = 'workarea.final_loc_intel_monthly'"
   ]
  },
  {
   "cell_type": "code",
   "execution_count": null,
   "metadata": {
    "application/vnd.databricks.v1+cell": {
     "inputWidgets": {},
     "nuid": "742d9eea-e8f6-4d0a-b32e-eb6413e07f96",
     "showTitle": false,
     "title": ""
    }
   },
   "outputs": [],
   "source": [
    "smad_ly1 = 2016\n",
    "smad_ly2 = 2017\n",
    "smad_lm = 9\n",
    "\n",
    "csad_ly1 = 2016\n",
    "csad_ly2 = 2017\n",
    "csad_lm = 9\n",
    "\n",
    "dtri_ly1 = 2016\n",
    "dtri_ly2 = 2017\n",
    "dtri_lm = 9\n",
    "\n",
    "da_businessactivity_ly1 = 2016\n",
    "da_businessactivity_ly2 = 2017\n",
    "da_businessactivity_lm = 9\n",
    "\n",
    "da_inquiries_ly1 = 2016\n",
    "da_inquiries_ly2 = 2016\n",
    "da_inquiries_lm = 9\n",
    "\n",
    "icm_ly1 = 2016\n",
    "icm_ly2 = 2017\n",
    "icm_lm = 9\n",
    "\n",
    "da_spend_ly1 = 2016\n",
    "da_spend_ly2 = 2017\n",
    "da_spend_lm = 9\n",
    "\n",
    "gctrs_signals_ly1 = 2016\n",
    "gctrs_signals_ly2 = 2017\n",
    "gctrs_signals_lm = 9\n",
    "\n",
    "final_loc_intel_monthly_ly1 = 2016\n",
    "final_loc_intel_monthly_ly2 = 2017\n",
    "final_loc_intel_monthly_lm = 9"
   ]
  },
  {
   "cell_type": "code",
   "execution_count": null,
   "metadata": {
    "application/vnd.databricks.v1+cell": {
     "inputWidgets": {},
     "nuid": "faadef77-ec14-47a6-9b32-44aaa6523cc0",
     "showTitle": false,
     "title": ""
    }
   },
   "outputs": [],
   "source": [
    "csad_vars = [\n",
    "'duns',\n",
    "'totempl',\n",
    "'comptype',\n",
    "'basecat',\n",
    "'sic4',\n",
    "'basedate',\n",
    "'arch_dte',\n",
    "'npayexp',\n",
    "'hicdtavg',\n",
    "'hicdtmax',\n",
    "'pydx_1',\n",
    "'pydx_2',\n",
    "'pydx_3',\n",
    "'pydx_4',\n",
    "'pydx_5',\n",
    "'pydx_6',\n",
    "'pydx_7',\n",
    "'pydx_8',\n",
    "'pydx_9',\n",
    "'pydx_10',\n",
    "'pydx_11',\n",
    "'pydx_12',\n",
    "'pydx_13',\n",
    "'pydx_14',\n",
    "'pydx_15',\n",
    "'pydx_16',\n",
    "'pydx_17',\n",
    "'pydx_18',\n",
    "'pydx_19',\n",
    "'pydx_20',\n",
    "'pydx_21',\n",
    "'pydx_22',\n",
    "'pydx_23',\n",
    "'pydx_24',\n",
    "'cpoints',\n",
    "'fspoints',\n",
    "'loc_ind',\n",
    "'liens',\n",
    "'suits',\n",
    "'judgmnts',\n",
    "'load_year',\n",
    "'load_month']\n",
    "\n",
    "# 'd_sat',\n",
    "# 'd_slow',\n",
    "# 'd_neg',\n",
    "# 'd_60',\n",
    "# 'd_90',\n",
    "# 'd_120',\n",
    "# 'd_180',\n",
    "# 'd_999',"
   ]
  },
  {
   "cell_type": "code",
   "execution_count": null,
   "metadata": {
    "application/vnd.databricks.v1+cell": {
     "inputWidgets": {},
     "nuid": "1b757bcf-cead-4599-a3bc-eeaad9e39623",
     "showTitle": false,
     "title": ""
    }
   },
   "outputs": [],
   "source": [
    "smad_vars = [\n",
    "'duns_nbr',\n",
    "'pmt_expr_cnt',\n",
    "'hi_cr_tot_amt',\n",
    "'saty_pmt_expr_cnt',\n",
    "'emp_at_locn_cnt',\n",
    "'rec_typ_code',\n",
    "'pydx6_mo_ago_scr',\n",
    "'inds_norm_pydx_scr',\n",
    "'womn_ownd_indc',\n",
    "'facy_sq_ft_msmt',\n",
    "'bus_owrp_code',\n",
    "'ucc_flng_3yr_cnt',\n",
    "'tot_ann_sls_amt',\n",
    "'hl_ceo_chg_code',\n",
    "'miny_ownd_indc',\n",
    "'impt_expt_code',\n",
    "'pub_pvt_co_indc',\n",
    "'locn_code',\n",
    "'fam_mbr_cnt',\n",
    "'sml_bus_indc',\n",
    "'acct_cnt',\n",
    "'extl_url_on_hmpg_cnt',\n",
    "'res_pop_code',\n",
    "'gndr_code',\n",
    "'bkcy_indc',\n",
    "'net_wrth_amt_sign',\n",
    "'load_year',\n",
    "'load_month']"
   ]
  },
  {
   "cell_type": "code",
   "execution_count": null,
   "metadata": {
    "application/vnd.databricks.v1+cell": {
     "inputWidgets": {},
     "nuid": "09cfd8c2-b983-446e-b7c9-06e3174c096d",
     "showTitle": false,
     "title": ""
    }
   },
   "outputs": [],
   "source": [
    "dtri_vars = [\n",
    "'duns_nbr',\n",
    "'tot_12_mo_acct',\n",
    "'tot_amt_owg_rcnt',\n",
    "'hi_cr_3_mo',\n",
    "'tot_12_mo_pastdue_acc',\n",
    "'mths_snc_hi_pdue',\n",
    "'pdx_12mth_curr',\n",
    "'tot_avg_past30p_12mths',\n",
    "'tot_avg_past90p_12mths',\n",
    "'load_year',\n",
    "'load_month']"
   ]
  },
  {
   "cell_type": "code",
   "execution_count": null,
   "metadata": {
    "application/vnd.databricks.v1+cell": {
     "inputWidgets": {},
     "nuid": "a21dd5fa-e3ff-4eb3-a504-85c1dc1534f4",
     "showTitle": false,
     "title": ""
    }
   },
   "outputs": [],
   "source": [
    "da_spend_vars = [\n",
    "'duns',\n",
    "'spnd_buyers_12m',\n",
    "'spnd_min_wsfo_12m',\n",
    "'spnd_dx13_12m',\n",
    "'spnd_avapo_r_12m',\n",
    "'spnd_avapo_f_12m',\n",
    "'spnd_max_avapo_o_12m',\n",
    "'spnd_dllrs_o_12m',\n",
    "'spnd_dllrs_12m',\n",
    "'spnd_max_avapo_f_12m',\n",
    "'spnd_max_avapo_r_12m',\n",
    "'spnd_avapo_12m',\n",
    "'spnd_dx40_b_12m',\n",
    "'load_year',\n",
    "'load_month']"
   ]
  },
  {
   "cell_type": "code",
   "execution_count": null,
   "metadata": {
    "application/vnd.databricks.v1+cell": {
     "inputWidgets": {},
     "nuid": "204111d7-a244-410b-9427-84d20b232c92",
     "showTitle": false,
     "title": ""
    }
   },
   "outputs": [],
   "source": [
    "da_businessactivity_vars = [\n",
    "'duns',\n",
    "'ba_count_info_src_12m',\n",
    "'ba_cr_activity_12m',\n",
    "'ba_cr_cat_insur_12m',\n",
    "'ba_cr_cat_marketing_12m',\n",
    "'ba_cr_stability_12m',\n",
    "'ba_sum_excl_12m',\n",
    "'ba_sum_info_gov_12m',\n",
    "'ba_cnt_cr_12m',\n",
    "'ba_cr_cat_other_12m',\n",
    "'ba_cr_cat_online_3m',\n",
    "'load_year',\n",
    "'load_month']"
   ]
  },
  {
   "cell_type": "code",
   "execution_count": null,
   "metadata": {
    "application/vnd.databricks.v1+cell": {
     "inputWidgets": {},
     "nuid": "06aa7977-0caa-4c5e-9113-e87c4c2f8d16",
     "showTitle": false,
     "title": ""
    }
   },
   "outputs": [],
   "source": [
    "final_loc_intel_monthly_vars = [\n",
    "'fr_duns_nbr',\n",
    "'drp_npayexp_loc_decile',\n",
    "'drp_pexp_cr_loc_decile',\n",
    "'drp_paydex1_loc_decile',\n",
    "'drp_pslow90p_loc_decile',\n",
    "'drp_sales_loc_decile',\n",
    "'drp_tlp_score_loc_decile',\n",
    "'loc_avg_npayexp',\n",
    "'loc_avg_dol30pl',\n",
    "'location_growth_score',\n",
    "'loc_pct_rent_1',\n",
    "'loc_avg_sales',\n",
    "'loc_pct_hqbr_b',\n",
    "'loc_pct_hqbr_r',\n",
    "'loc_pct_hqbr_s',\n",
    "'loc_pct_comptype_g',\n",
    "'loc_pct_via3_robust',\n",
    "'load_year',\n",
    "'load_month']"
   ]
  },
  {
   "cell_type": "code",
   "execution_count": null,
   "metadata": {
    "application/vnd.databricks.v1+cell": {
     "inputWidgets": {},
     "nuid": "b49af402-e916-4249-bbf7-ffe7dc3325c6",
     "showTitle": false,
     "title": ""
    }
   },
   "outputs": [],
   "source": [
    "icm_vars = [\n",
    "'duns',\n",
    "'chg_phon',\n",
    "'chg_tot_emp',\n",
    "'load_year',\n",
    "'load_month']"
   ]
  },
  {
   "cell_type": "code",
   "execution_count": null,
   "metadata": {
    "application/vnd.databricks.v1+cell": {
     "inputWidgets": {},
     "nuid": "c8a0116e-59dc-4c92-94a3-958311fb3153",
     "showTitle": false,
     "title": ""
    }
   },
   "outputs": [],
   "source": [
    "da_inquiries_vars = [\n",
    "'duns',\n",
    "'inq_sic50_inq_24m',\n",
    "'inq_inquirer_sic_6_60m',\n",
    "'inq_inquirer_sic_0_60m',\n",
    "'inq_inquirer_sic_9_60m',\n",
    "'inq_inquirer_sic_5_60m',\n",
    "'inq_sic47_inq_60m',\n",
    "'inq_inquiry_duns_48m',\n",
    "'load_year',\n",
    "'load_month']"
   ]
  },
  {
   "cell_type": "code",
   "execution_count": null,
   "metadata": {
    "application/vnd.databricks.v1+cell": {
     "inputWidgets": {},
     "nuid": "c7dfb319-5d04-4370-9123-e54815fb314d",
     "showTitle": false,
     "title": ""
    }
   },
   "outputs": [],
   "source": [
    "def pullDNBData(db_table, table_vars, ly1, ly2, lm, db_duns_col_name = 'duns', db_ly_col_name = 'load_year', db_lm_col_name = 'load_month'):\n",
    "  df1 = spark.sql('select {} from {} where {} in ({},{}) and {} = {}'.format(', '.join(table_vars), db_table, db_ly_col_name, ly1, ly2, db_lm_col_name, lm))\n",
    "  df1 = df1.dropDuplicates([db_duns_col_name, db_ly_col_name, db_lm_col_name]) \n",
    "  return df1"
   ]
  },
  {
   "cell_type": "code",
   "execution_count": null,
   "metadata": {
    "application/vnd.databricks.v1+cell": {
     "inputWidgets": {},
     "nuid": "404f8229-c582-4aa6-874e-e4a8b87c8f0a",
     "showTitle": false,
     "title": ""
    }
   },
   "outputs": [],
   "source": [
    "# internal attributes\n",
    "\n",
    "df_smad = pullDNBData(smad_table, smad_vars, smad_ly1, smad_ly2, smad_lm, db_duns_col_name = 'duns_nbr')\n",
    "df_csad = pullDNBData(csad_table, csad_vars, csad_ly1, csad_ly2, csad_lm)\n",
    "df_dtri = pullDNBData(dtri_table, dtri_vars, dtri_ly1, dtri_ly2, dtri_lm, db_duns_col_name = 'duns_nbr')\n",
    "df_ba = pullDNBData(da_businessactivity_table, da_businessactivity_vars, da_businessactivity_ly1, da_businessactivity_ly2, da_businessactivity_lm)\n",
    "df_inquiries = pullDNBData(da_inquiries_table, da_inquiries_vars, da_inquiries_ly1, da_inquiries_ly2, da_inquiries_lm)\n",
    "df_icm = pullDNBData(icm_table, icm_vars, icm_ly1, icm_ly2, icm_lm)\n",
    "# df_gctrs = pullDNBData(gctrs_signals_table, gctrs_signals_vars, gctrs_signals_ly1, gctrs_signals_ly2, gctrs_signals_lm)\n",
    "df_spend = pullDNBData(da_spend_table, da_spend_vars, da_spend_ly1, da_spend_ly2, da_spend_lm)\n",
    "df_loc = pullDNBData(final_loc_intel_monthly_table, final_loc_intel_monthly_vars, final_loc_intel_monthly_ly1, final_loc_intel_monthly_ly2, final_loc_intel_monthly_lm, db_duns_col_name = 'fr_duns_nbr')"
   ]
  },
  {
   "cell_type": "code",
   "execution_count": null,
   "metadata": {
    "application/vnd.databricks.v1+cell": {
     "inputWidgets": {},
     "nuid": "b706b2a0-2cf2-4c51-be98-e71bbabab640",
     "showTitle": false,
     "title": ""
    }
   },
   "outputs": [],
   "source": [
    "# location cluster score\n",
    "\n",
    "df_loc_clus_scr_train = spark.sql('select duns, location_cluster_score1, location_cluster_score2, append_year, append_month from workarea.us_export_propensity_analytic_dataset_train_location_cluster_score_derived_attribute')\n",
    "df_loc_clus_scr_val = spark.sql('select duns, location_cluster_score1, location_cluster_score2, append_year, append_month from workarea.us_export_propensity_analytic_dataset_val_location_cluster_score_derived_attribute')\n",
    "df_loc_clus_scr_test = spark.sql('select duns, location_cluster_score1, location_cluster_score2, append_year, append_month from workarea.us_export_propensity_analytic_dataset_test_location_cluster_score_derived_attribute')\n",
    "df_loc_clus_scr = df_loc_clus_scr_train.union(df_loc_clus_scr_val).union(df_loc_clus_scr_test)\n",
    "\n",
    "# sic4 score\n",
    "\n",
    "df_sic_scr_train = spark.sql('select duns, sic4_score, append_year, append_month from workarea.us_export_propensity_analytic_dataset_train_sic4_score_derived_attribute')\n",
    "df_sic_scr_val = spark.sql('select duns, sic4_score, append_year, append_month from workarea.us_export_propensity_analytic_dataset_val_sic4_score_derived_attribute')\n",
    "df_sic_scr_test = spark.sql('select duns, sic4_score, append_year, append_month from workarea.us_export_propensity_analytic_dataset_test_sic4_score_derived_attribute')\n",
    "df_sic_scr = df_sic_scr_train.union(df_sic_scr_val).union(df_sic_scr_test)\n",
    "\n",
    "# business name propensity indicator\n",
    "\n",
    "df_bus_nme_prop_train = spark.sql('select duns, exp_bus_nme_ind as exp_prop_bus_nme_ind, append_year, append_month from workarea.us_export_propensity_analytic_dataset_train_business_name_derived_attribute')\n",
    "df_bus_nme_prop_val = spark.sql('select duns, exp_bus_nme_ind as exp_prop_bus_nme_ind, append_year, append_month from workarea.us_export_propensity_analytic_dataset_val_business_name_derived_attribute')\n",
    "df_bus_nme_prop_test = spark.sql('select duns, exp_bus_nme_ind as exp_prop_bus_nme_ind, append_year, append_month from workarea.us_export_propensity_analytic_dataset_test_business_name_derived_attribute')\n",
    "df_bus_nme_prop = df_bus_nme_prop_train.union(df_bus_nme_prop_val).union(df_bus_nme_prop_test)\n",
    "\n",
    "# gctrs\n",
    "\n",
    "df_gctrs_train = spark.sql('select duns, gctrs_cnt_unq_customer_country, gctrs_cnt_unq_yrs, gctrs_ttl_signal_3yrs, ind_gctrs_3yrs, append_year, append_month from workarea.us_export_propensity_analytic_dataset_train_gctrs')\n",
    "df_gctrs_val = spark.sql('select duns, gctrs_cnt_unq_customer_country, gctrs_cnt_unq_yrs, gctrs_ttl_signal_3yrs, ind_gctrs_3yrs, append_year, append_month from workarea.us_export_propensity_analytic_dataset_val_gctrs')\n",
    "df_gctrs_test = spark.sql('select duns, gctrs_cnt_unq_customer_country, gctrs_cnt_unq_yrs, gctrs_ttl_signal_3yrs, ind_gctrs_3yrs, append_year, append_month from workarea.us_export_propensity_analytic_dataset_test_gctrs')\n",
    "df_gctrs = df_gctrs_train.union(df_gctrs_val).union(df_gctrs_test)"
   ]
  },
  {
   "cell_type": "code",
   "execution_count": null,
   "metadata": {
    "application/vnd.databricks.v1+cell": {
     "inputWidgets": {},
     "nuid": "4e1b4b7d-78da-484a-a939-429ff04f8303",
     "showTitle": false,
     "title": ""
    }
   },
   "outputs": [],
   "source": [
    "# smad transformations\n",
    "\n",
    "df_smad = df_smad.withColumn('npayexp', when(col('pmt_expr_cnt') < 0, None).otherwise(col('pmt_expr_cnt')))\n",
    "df_smad = df_smad.withColumn('satis', when(col('saty_pmt_expr_cnt') < 0, None).otherwise(col('saty_pmt_expr_cnt')))\n",
    "df_smad = df_smad.withColumn('emplhere', when(col('emp_at_locn_cnt') == 0, None).otherwise(col('emp_at_locn_cnt')))\n",
    "df_smad = df_smad.withColumn('emplhere', when(col('emplhere') < 0, None).otherwise(col('emplhere')))\n",
    "df_smad = df_smad.withColumn('numpaydex7', when(col('pydx6_mo_ago_scr') < 0, None).otherwise(col('pydx6_mo_ago_scr')))\n",
    "df_smad = df_smad.withColumn('sales', when(col('tot_ann_sls_amt') == 0, None).otherwise(col('tot_ann_sls_amt')))\n",
    "df_smad = df_smad.withColumn('sales', when(col('sales') < 0, None).otherwise(col('sales')))\n",
    "df_smad = df_smad.withColumn('bnkrpt', when(col('bkcy_indc') == None, 0).otherwise(col('bkcy_indc')))\n",
    "\n",
    "df_smad = df_smad.withColumn('nnetwrthsign', lit(None))\n",
    "df_smad = df_smad.withColumn('nnetwrthsign', when(col('net_wrth_amt_sign') == '+', 1).otherwise(col('nnetwrthsign')))\n",
    "df_smad = df_smad.withColumn('nnetwrthsign', when(col('net_wrth_amt_sign') == '-', 2).otherwise(col('nnetwrthsign')))\n",
    "\n",
    "df_smad = df_smad.withColumn('ngndr', lit(None))\n",
    "df_smad = df_smad.withColumn('ngndr', when(col('gndr_code') == 'F', 1).otherwise(col('ngndr')))\n",
    "df_smad = df_smad.withColumn('ngndr', when(col('gndr_code') == 'B', 2).otherwise(col('ngndr')))\n",
    "df_smad = df_smad.withColumn('ngndr', when(col('gndr_code') == 'M', 3).otherwise(col('ngndr')))\n",
    "\n",
    "df_smad = df_smad.withColumn('nlocn', lit(None))\n",
    "df_smad = df_smad.withColumn('nlocn', when(col('locn_code') == 'D', 1).otherwise(col('nlocn')))\n",
    "df_smad = df_smad.withColumn('nlocn', when(col('locn_code') == 'F', 2).otherwise(col('nlocn')))\n",
    "df_smad = df_smad.withColumn('nlocn', when(col('locn_code') == 'B', 3).otherwise(col('nlocn')))\n",
    "df_smad = df_smad.withColumn('nlocn', when(col('locn_code') == 'C', 4).otherwise(col('nlocn')))\n",
    "df_smad = df_smad.withColumn('nlocn', when(col('locn_code') == 'A', 5).otherwise(col('nlocn')))\n",
    "df_smad = df_smad.withColumn('nlocn', when(col('locn_code') == 'E', 6).otherwise(col('nlocn')))\n",
    "\n",
    "df_smad = df_smad.withColumn('nimptexpt', lit(None))\n",
    "df_smad = df_smad.withColumn('nimptexpt', when(col('impt_expt_code') == 'I', 1).otherwise(col('nimptexpt')))\n",
    "df_smad = df_smad.withColumn('nimptexpt', when(col('impt_expt_code') == 'E', 2).otherwise(col('nimptexpt')))\n",
    "df_smad = df_smad.withColumn('nimptexpt', when(col('impt_expt_code') == 'B', 3).otherwise(col('nimptexpt')))\n",
    "\n",
    "df_smad = df_smad.withColumn('nbusowrp', lit(None))\n",
    "df_smad = df_smad.withColumn('nbusowrp', when(col('bus_owrp_code') == 'D', 1).otherwise(col('nbusowrp')))\n",
    "df_smad = df_smad.withColumn('nbusowrp', when(col('bus_owrp_code') == 'E', 2).otherwise(col('nbusowrp')))\n",
    "df_smad = df_smad.withColumn('nbusowrp', when(col('bus_owrp_code') == 'B', 3).otherwise(col('nbusowrp')))\n",
    "df_smad = df_smad.withColumn('nbusowrp', when(col('bus_owrp_code') == 'A', 4).otherwise(col('nbusowrp')))\n",
    "df_smad = df_smad.withColumn('nbusowrp', when(col('bus_owrp_code') == 'C', 5).otherwise(col('nbusowrp')))\n",
    "\n",
    "df_smad = df_smad.withColumn('nrectyp', lit(None))\n",
    "df_smad = df_smad.withColumn('nrectyp', when(col('rec_typ_code') == 'S', 1).otherwise(col('nrectyp')))\n",
    "df_smad = df_smad.withColumn('nrectyp', when(col('rec_typ_code') == 'B', 2).otherwise(col('nrectyp')))\n",
    "df_smad = df_smad.withColumn('nrectyp', when(col('rec_typ_code') == 'R', 3).otherwise(col('nrectyp')))\n",
    "\n",
    "df_smad = df_smad.withColumn('sml_bus_ind', lit(None))\n",
    "df_smad = df_smad.withColumn('sml_bus_ind', when(col('sml_bus_indc') == 'Y', 1).otherwise(col('sml_bus_ind')))\n",
    "df_smad = df_smad.withColumn('sml_bus_ind', when(col('sml_bus_indc') == 'N', 0).otherwise(col('sml_bus_ind')))\n",
    "\n",
    "df_smad = df_smad.withColumn('public_ind', lit(0))\n",
    "df_smad = df_smad.withColumn('public_ind', when(col('pub_pvt_co_indc') == 'Y', 1).otherwise(col('public_ind')))\n",
    "\n",
    "df_smad = df_smad.withColumn('womn_ownd_ind', lit(0))\n",
    "df_smad = df_smad.withColumn('womn_ownd_ind', when(col('womn_ownd_indc') == 'Y', 1).otherwise(col('womn_ownd_ind')))\n",
    "\n",
    "df_smad = df_smad.withColumn('miny_ownd_ind', lit(0))\n",
    "df_smad = df_smad.withColumn('miny_ownd_ind', when(col('miny_ownd_indc') == 'Y', 1).otherwise(col('miny_ownd_ind')))\n",
    "\n",
    "df_smad = df_smad.withColumn('hl_ceo_chg_code', when(col('hl_ceo_chg_code') != 5, None).otherwise(col('hl_ceo_chg_code'))).withColumn('hl_ceo_chg_code', col('hl_ceo_chg_code').cast('int'))\n",
    "df_smad = df_smad.withColumn('res_pop_code', col('res_pop_code').cast('int'))\n",
    "df_smad = df_smad.withColumn('bnkrpt', col('bnkrpt').cast('int'))\n",
    "\n",
    "\n",
    "df_smad = df_smad.withColumnRenamed('duns_nbr', 'duns')\n",
    "df_smad = df_smad.withColumnRenamed('load_year', 'append_year')\n",
    "df_smad = df_smad.withColumnRenamed('load_month', 'append_month')"
   ]
  },
  {
   "cell_type": "code",
   "execution_count": null,
   "metadata": {
    "application/vnd.databricks.v1+cell": {
     "inputWidgets": {},
     "nuid": "3b1683f2-c2e4-4649-81e9-8cc4a666e937",
     "showTitle": false,
     "title": ""
    }
   },
   "outputs": [],
   "source": [
    "# csad transformations\n",
    "\n",
    "for i in range(1, 25): \n",
    "    df_csad = df_csad.withColumnRenamed('pydx_' + str(i), \"paydex\" + str(i))\n",
    "    df_csad = df_csad.withColumn('paydex' + str(i) , when((col('paydex' + str(i)) > 100) | (col('paydex' + str(i)) == 0), None).otherwise(col('paydex' + str(i)))) \n",
    "\n",
    "df_csad = df_csad.withColumn('sic4', df_csad['sic4'].cast(StringType()))\n",
    "df_csad = df_csad.withColumn('npayexp', when(col('npayexp') == 0, None).otherwise(col('npayexp')))\n",
    "df_csad = df_csad.withColumn('arch_dte' , df_csad['arch_dte'].cast(DateType()))\n",
    "df_csad = df_csad.withColumn('m60date', expr(\"date_sub(arch_dte, 1826)\"))\n",
    "df_csad = df_csad.withColumn('hqbr_ind', df_csad['basecat'])\n",
    "df_csad = df_csad.withColumn('basedate', col('basedate').cast(StringType()))\n",
    "df_csad = df_csad.withColumn('basedate',  to_date(unix_timestamp(col('basedate'), 'yyyyMMdd').cast('timestamp')))\n",
    "df_csad = df_csad.withColumn('univ_ind', lit(0))\n",
    "df_csad = df_csad.withColumn('univ_ind', when((col('hqbr_ind') == 'S') & (col('sic4').substr(0, 1) == 9), None).otherwise(4))\n",
    "df_csad = df_csad.withColumn('univ_ind', when( (col('hqbr_ind') == 'R') & (col('basedate') > col('m60date')), 1 ).otherwise(col('univ_ind')))\n",
    "df_csad = df_csad.withColumn('1983_date', lit('1983-01-01'))\n",
    "df_csad = df_csad.withColumn('1983_date',  to_date(unix_timestamp(col('1983_date'), 'yyyy-MM-dd').cast('timestamp')))\n",
    "df_csad = df_csad.withColumn('univ_ind', when( (col('hqbr_ind') == 'R') & (col('basedate') <= col('m60date')) & (col('basedate') >= col('1983_date')) &\\\n",
    "                                     (col('npayexp') > 0), \n",
    "                                     2 ).otherwise(col('univ_ind'))\n",
    "                  )\n",
    "df_csad = df_csad.withColumn('univ_ind', when( (col('hqbr_ind') == 'R') & (col('basedate') > col('m60date')) & (col('basedate') >= col('1983_date')) &\\\n",
    "                                     (col('npayexp') <= 0), \n",
    "                                     3 ).otherwise(col('univ_ind')))\n",
    "df_csad = df_csad.withColumn('univ_ind', when( (col('hqbr_ind') == 'R') & (col('basedate') >= col('1983_date')), 4 ).otherwise(col('univ_ind')))\n",
    "df_csad = df_csad.withColumn('univ_ind', when((col('hqbr_ind') != 'r') & (col('hqbr_ind') != 's'), 5 ).otherwise(col('univ_ind')))\n",
    "\n",
    "@pandas_udf(FloatType(), PandasUDFType.SCALAR)\n",
    "def calculatePaydexVariance(a, b, c, d, e, f, g, h, i, j, k, l): \n",
    "    import pandas as pd \n",
    "    features_df = pd.DataFrame({\"pydx1\": a, \"pydx2\": b,  \"pydx3\": c,  \"pydx4\": d,  \"pydx5\": e,  \"pydx6\": f,  \"pydx7\": g, \n",
    "                                \"pydx8\": h,  \"pydx9\": i, \"pydx10\": j,  \"pydx11\": k,  \"pydx12\": l}) \n",
    "    features_df[\"std\"] = features_df[:].std(axis = 1) ** 2 \n",
    "    return features_df[\"std\"]\n",
    "\n",
    "df_csad = df_csad.withColumn('pydexvar', calculatePaydexVariance(col('paydex1'), col('paydex2'), col('paydex3'), col('paydex4'), \n",
    "                                  col('paydex5'), col('paydex6'), col('paydex7'), col('paydex8'), \n",
    "                                  col('paydex9'), col('paydex10'), col('paydex11'), col('paydex12'))) \n",
    "\n",
    "df_csad = df_csad.withColumn('lien_ind', when(col('liens') > 0, 1.0).otherwise(0.0))\n",
    "df_csad = df_csad.withColumn('suits_ind', when(col('suits') > 0, 1.0).otherwise(0.0))\n",
    "df_csad = df_csad.withColumn('judg_ind', when(col('judgmnts') > 0, 1.0).otherwise(0.0))\n",
    "df_csad = df_csad.withColumn('hca_pct_hcm', df_csad['hicdtavg'] / df_csad['hicdtmax'])\n",
    "\n",
    "df_csad = df_csad.withColumn('ncomptype', when(col('comptype') == 'G', 1.0).\\\n",
    "                          otherwise(when(col('comptype') == 'H', 2.0).\\\n",
    "                          otherwise(when(col('comptype') == 'I', 3.0).\\\n",
    "                          otherwise(when(col('comptype') == 'J', 4.0).otherwise(5.0)\n",
    "                                   ))))\n",
    "\n",
    "df_csad = df_csad.withColumn('loc_ind', ltrim(rtrim(col('loc_ind'))))\n",
    "df_csad = df_csad.withColumn('nloc', lit(None))\n",
    "df_csad = df_csad.withColumn('nloc', when(col('loc_ind') == 'S', 1).otherwise(col('nloc')))\n",
    "df_csad = df_csad.withColumn('nloc', when(col('loc_ind') == 'H', 2).otherwise(col('nloc')))\n",
    "df_csad = df_csad.withColumn('nloc', when(col('loc_ind') == 'B', 3).otherwise(col('nloc')))\n",
    "\n",
    "df_csad = df_csad.withColumnRenamed('npayexp', 'csad_npayexp')\n",
    "df_csad = df_csad.withColumnRenamed('load_year', 'append_year')\n",
    "df_csad = df_csad.withColumnRenamed('load_month', 'append_month')"
   ]
  },
  {
   "cell_type": "code",
   "execution_count": null,
   "metadata": {
    "application/vnd.databricks.v1+cell": {
     "inputWidgets": {},
     "nuid": "3255f067-3e08-42be-8fc5-e88e380f1244",
     "showTitle": false,
     "title": ""
    }
   },
   "outputs": [],
   "source": [
    "# da_inquiries transformations\n",
    "\n",
    "for i in list(set(da_inquiries_vars) - set(['duns', 'load_year', 'load_month'])):\n",
    "  df_inquiries = df_inquiries.withColumn(i, when(col(i) == 0, None).otherwise(col(i)))\n",
    "\n",
    "df_inquiries = df_inquiries.withColumnRenamed('load_year', 'append_year')\n",
    "df_inquiries = df_inquiries.withColumnRenamed('load_month', 'append_month')"
   ]
  },
  {
   "cell_type": "code",
   "execution_count": null,
   "metadata": {
    "application/vnd.databricks.v1+cell": {
     "inputWidgets": {},
     "nuid": "e92362a2-5f4d-4280-9af3-14169ba51898",
     "showTitle": false,
     "title": ""
    }
   },
   "outputs": [],
   "source": [
    "# icm transformations\n",
    "\n",
    "df_icm = df_icm.withColumn('chg_phon', when(~col('chg_phon').isin([1,2,3]), None).otherwise(col('chg_phon'))).withColumn('chg_phon', col('chg_phon').cast('int'))\n",
    "df_icm = df_icm.withColumn('chg_tot_emp', when(~col('chg_tot_emp').isin([-2,-1,0,1,2,3]), None).otherwise(col('chg_tot_emp'))).withColumn('chg_tot_emp', col('chg_tot_emp').cast('int'))"
   ]
  },
  {
   "cell_type": "code",
   "execution_count": null,
   "metadata": {
    "application/vnd.databricks.v1+cell": {
     "inputWidgets": {},
     "nuid": "58cfc480-bcd8-4035-a956-b3ff257e60b8",
     "showTitle": false,
     "title": ""
    }
   },
   "outputs": [],
   "source": [
    "# other transformations\n",
    "\n",
    "df_dtri = df_dtri.withColumnRenamed('duns_nbr', 'duns')\n",
    "df_dtri = df_dtri.withColumnRenamed('load_year', 'append_year')\n",
    "df_dtri = df_dtri.withColumnRenamed('load_month', 'append_month')\n",
    "\n",
    "df_ba = df_ba.withColumnRenamed('load_year', 'append_year')\n",
    "df_ba = df_ba.withColumnRenamed('load_month', 'append_month')\n",
    "\n",
    "df_spend = df_spend.withColumnRenamed('load_year', 'append_year')\n",
    "df_spend = df_spend.withColumnRenamed('load_month', 'append_month')\n",
    "\n",
    "df_icm = df_icm.withColumnRenamed('load_year', 'append_year')\n",
    "df_icm = df_icm.withColumnRenamed('load_month', 'append_month')\n",
    "\n",
    "df_loc = df_loc.withColumnRenamed('fr_duns_nbr', 'duns')\n",
    "df_loc = df_loc.withColumnRenamed('load_year', 'append_year')\n",
    "df_loc = df_loc.withColumnRenamed('load_month', 'append_month')"
   ]
  },
  {
   "cell_type": "code",
   "execution_count": null,
   "metadata": {
    "application/vnd.databricks.v1+cell": {
     "inputWidgets": {},
     "nuid": "84248051-96d2-46c6-b4c7-e3cfc57928f5",
     "showTitle": false,
     "title": ""
    }
   },
   "outputs": [],
   "source": [
    "df2 = df.join(df_smad, on = ['duns', 'append_year', 'append_month'], how = 'left')\n",
    "df3 = df2.join(df_csad, on = ['duns', 'append_year', 'append_month'], how = 'left')\n",
    "df4 = df3.join(df_dtri, on = ['duns', 'append_year', 'append_month'], how = 'left')\n",
    "df5 = df4.join(df_ba, on = ['duns', 'append_year', 'append_month'], how = 'left')\n",
    "df6 = df5.join(df_inquiries, on = ['duns', 'append_year', 'append_month'], how = 'left')\n",
    "df7 = df6.join(df_spend, on = ['duns', 'append_year', 'append_month'], how = 'left')\n",
    "df8 = df7\n",
    "df9 = df8.join(df_loc, on = ['duns', 'append_year', 'append_month'], how = 'left')\n",
    "df10 = df9.join(df_icm, on = ['duns', 'append_year', 'append_month'], how = 'left')"
   ]
  },
  {
   "cell_type": "code",
   "execution_count": null,
   "metadata": {
    "application/vnd.databricks.v1+cell": {
     "inputWidgets": {},
     "nuid": "80443904-7c38-4a0c-9258-c3a379c66f57",
     "showTitle": false,
     "title": ""
    }
   },
   "outputs": [],
   "source": [
    "df11 = df10.join(df_loc_clus_scr, on = ['duns', 'append_year', 'append_month'], how = 'left')\n",
    "df12 = df11.join(df_sic_scr, on = ['duns', 'append_year', 'append_month'], how = 'left')\n",
    "df13 = df12.join(df_bus_nme_prop, on = ['duns', 'append_year', 'append_month'], how = 'left')"
   ]
  },
  {
   "cell_type": "code",
   "execution_count": null,
   "metadata": {
    "application/vnd.databricks.v1+cell": {
     "inputWidgets": {},
     "nuid": "b6cc08b5-0511-4b08-96af-c1e8edc11c28",
     "showTitle": false,
     "title": ""
    }
   },
   "outputs": [],
   "source": [
    "df14 = df13.join(df_gctrs, on = ['duns', 'append_year', 'append_month'], how = 'left')"
   ]
  },
  {
   "cell_type": "code",
   "execution_count": null,
   "metadata": {
    "application/vnd.databricks.v1+cell": {
     "inputWidgets": {},
     "nuid": "aff8340c-bb14-4ae2-8bfb-86ca19407c2c",
     "showTitle": false,
     "title": ""
    }
   },
   "outputs": [],
   "source": [
    "train_duns = spark.sql('select duns, append_year, append_month from workarea.us_export_propensity_analytic_dataset_train')\n",
    "val_duns = spark.sql('select duns, append_year, append_month from workarea.us_export_propensity_analytic_dataset_val')\n",
    "test_duns = spark.sql('select duns, append_year, append_month from workarea.us_export_propensity_analytic_dataset_test')\n",
    "train_duns = train_duns.withColumn('sample_type', lit('train'))\n",
    "val_duns = val_duns.withColumn('sample_type', lit('val'))\n",
    "test_duns = test_duns.withColumn('sample_type', lit('test'))\n",
    "df_sample_type = train_duns.union(val_duns).union(test_duns)"
   ]
  },
  {
   "cell_type": "code",
   "execution_count": null,
   "metadata": {
    "application/vnd.databricks.v1+cell": {
     "inputWidgets": {},
     "nuid": "b332a4ae-4b7e-498d-a939-11c347769b81",
     "showTitle": false,
     "title": ""
    }
   },
   "outputs": [],
   "source": [
    "df_final = df14.join(df_sample_type, on = ['duns', 'append_year', 'append_month'], how = 'left')"
   ]
  },
  {
   "cell_type": "code",
   "execution_count": null,
   "metadata": {
    "application/vnd.databricks.v1+cell": {
     "inputWidgets": {},
     "nuid": "e13a1d4d-0984-4e2a-a124-26677d591400",
     "showTitle": false,
     "title": ""
    }
   },
   "outputs": [],
   "source": [
    "df_final.write.mode('overwrite').saveAsTable('workarea.us_export_propensity_data_prep_and_derivations')"
   ]
  },
  {
   "cell_type": "code",
   "execution_count": null,
   "metadata": {
    "application/vnd.databricks.v1+cell": {
     "inputWidgets": {},
     "nuid": "89e81b11-3c9f-4077-86a6-a578063c6299",
     "showTitle": false,
     "title": ""
    }
   },
   "outputs": [],
   "source": []
  }
 ],
 "metadata": {
  "application/vnd.databricks.v1+notebook": {
   "dashboards": [],
   "language": "python",
   "notebookMetadata": {
    "pythonIndentUnit": 2
   },
   "notebookName": "01 Data Preparation",
   "notebookOrigID": 2308537958174325,
   "widgets": {}
  },
  "kernelspec": {
   "display_name": "Python 3",
   "language": "python",
   "name": "python3"
  },
  "language_info": {
   "codemirror_mode": {
    "name": "ipython",
    "version": 3
   },
   "file_extension": ".py",
   "mimetype": "text/x-python",
   "name": "python",
   "nbconvert_exporter": "python",
   "pygments_lexer": "ipython3",
   "version": "3.6.5"
  }
 },
 "nbformat": 4,
 "nbformat_minor": 1
}
