{
 "cells": [
  {
   "cell_type": "code",
   "execution_count": null,
   "metadata": {
    "application/vnd.databricks.v1+cell": {
     "inputWidgets": {},
     "nuid": "2d1e83ee-da29-4f3b-9270-0e9835e45cbb",
     "showTitle": false,
     "title": ""
    }
   },
   "outputs": [],
   "source": [
    "from pyspark.sql.functions import *\n",
    "from pyspark.sql.types import *"
   ]
  },
  {
   "cell_type": "code",
   "execution_count": null,
   "metadata": {
    "application/vnd.databricks.v1+cell": {
     "inputWidgets": {},
     "nuid": "ef4ce858-d0c4-42a1-b683-40fe784d6fe9",
     "showTitle": false,
     "title": ""
    }
   },
   "outputs": [],
   "source": [
    "exporters = spark.sql('select * from workarea.us_export_propensity_exporters')\n",
    "\n",
    "smad = spark.sql('select duns_nbr as duns, alph_terr_code as state, prim_sic_code as sic4, tot_ann_sls_amt as sales, tot_emp_cnt as total_employees, emp_at_locn_cnt as employees_at_location, load_year as append_year, load_month as append_month from workarea.smad where load_year in (2016, 2017) and load_month = 9')\n",
    "\n",
    "smad = smad.withColumn('sic2', (smad.sic4.cast(IntegerType()) / 100))\n",
    "smad = smad.withColumn('sic2d', lit(11))\n",
    "smad = smad.withColumn('sic2d', when((col('sic2') > 0) & (col('sic2') <= 9), 1).otherwise(col('sic2d'))) # Agriculture, Forestry, Fishing\n",
    "smad = smad.withColumn('sic2d', when((col('sic2') > 9) & (col('sic2') <= 14), 2).otherwise(col('sic2d'))) # Mining\n",
    "smad = smad.withColumn('sic2d', when((col('sic2') > 14) & (col('sic2') <= 17), 3).otherwise(col('sic2d'))) # Construction\n",
    "smad = smad.withColumn('sic2d', when((col('sic2') > 19) & (col('sic2') <= 39), 4).otherwise(col('sic2d'))) # Manufacturing\n",
    "smad = smad.withColumn('sic2d', when((col('sic2') > 39) & (col('sic2') <= 49), 5).otherwise(col('sic2d'))) # Transportation & Public Utilities\n",
    "smad = smad.withColumn('sic2d', when((col('sic2') > 49) & (col('sic2') <= 51), 6).otherwise(col('sic2d'))) # Wholesale Trade\n",
    "smad = smad.withColumn('sic2d', when((col('sic2') > 51) & (col('sic2') <= 59), 7).otherwise(col('sic2d'))) # Retail Trade\n",
    "smad = smad.withColumn('sic2d', when((col('sic2') > 59) & (col('sic2') <= 67), 8).otherwise(col('sic2d'))) # Finance, Insurance, Real Estate\n",
    "smad = smad.withColumn('sic2d', when((col('sic2') > 69) & (col('sic2') <= 89), 9).otherwise(col('sic2d'))) # Services\n",
    "smad = smad.withColumn('sic2d', when((col('sic2') > 90) & (col('sic2') <= 97), 0).otherwise(col('sic2d'))) # Public Administration\n",
    "\n",
    "exporters = exporters.join(smad, on = ['duns', 'append_year', 'append_month'], how = 'left')"
   ]
  },
  {
   "cell_type": "code",
   "execution_count": null,
   "metadata": {
    "application/vnd.databricks.v1+cell": {
     "inputWidgets": {},
     "nuid": "3bb5bb25-e034-449f-81b4-8b8bee412a25",
     "showTitle": false,
     "title": ""
    }
   },
   "outputs": [],
   "source": [
    "display(exporters.groupBy('sic2d').count())"
   ]
  },
  {
   "cell_type": "code",
   "execution_count": null,
   "metadata": {
    "application/vnd.databricks.v1+cell": {
     "inputWidgets": {},
     "nuid": "abec298b-30d5-4892-b787-c9b5254b7cae",
     "showTitle": false,
     "title": ""
    }
   },
   "outputs": [],
   "source": [
    "display(smad.groupBy('sic2d').count())"
   ]
  },
  {
   "cell_type": "code",
   "execution_count": null,
   "metadata": {
    "application/vnd.databricks.v1+cell": {
     "inputWidgets": {},
     "nuid": "d19b8989-da6e-4bb9-98ee-c1c1bc65aea8",
     "showTitle": false,
     "title": ""
    }
   },
   "outputs": [],
   "source": [
    "display(exporters.groupBy('state').count())"
   ]
  },
  {
   "cell_type": "code",
   "execution_count": null,
   "metadata": {
    "application/vnd.databricks.v1+cell": {
     "inputWidgets": {},
     "nuid": "fc8fd335-fb0d-4033-bba7-ee9d9a020dc3",
     "showTitle": false,
     "title": ""
    }
   },
   "outputs": [],
   "source": [
    "display(smad.groupBy('state').count())"
   ]
  },
  {
   "cell_type": "code",
   "execution_count": null,
   "metadata": {
    "application/vnd.databricks.v1+cell": {
     "inputWidgets": {},
     "nuid": "c0321142-d8f1-47bb-8e8d-7e78fc26ae0f",
     "showTitle": false,
     "title": ""
    }
   },
   "outputs": [],
   "source": [
    "exporters = exporters.withColumn('sic2', col('sic2').cast('int'))\n",
    "smad = smad.withColumn('sic2', col('sic2').cast('int'))\n",
    "\n",
    "exporters_sic2 = exporters.groupBy('sic2').count().withColumnRenamed('count','exporters_count')\n",
    "display(exporters.groupBy('sic2').count())\n",
    "\n",
    "smad_sic2 = smad.groupBy('sic2').count().withColumnRenamed('count','smad_count')\n",
    "display(smad.groupBy('sic2').count())\n",
    "\n",
    "exporters_smad_sic2 = exporters_sic2.join(smad_sic2, on = 'sic2', how = 'inner')"
   ]
  },
  {
   "cell_type": "code",
   "execution_count": null,
   "metadata": {
    "application/vnd.databricks.v1+cell": {
     "inputWidgets": {},
     "nuid": "394b21e7-f8b6-46e5-b792-60ec16fdb88d",
     "showTitle": false,
     "title": ""
    }
   },
   "outputs": [],
   "source": [
    "display(exporters_smad_sic2.orderBy('sic2'))"
   ]
  },
  {
   "cell_type": "code",
   "execution_count": null,
   "metadata": {
    "application/vnd.databricks.v1+cell": {
     "inputWidgets": {},
     "nuid": "3ead7174-1430-4b4e-a036-f6d6b389bfdd",
     "showTitle": false,
     "title": ""
    }
   },
   "outputs": [],
   "source": [
    "exporters_smad_sic2 = exporters_smad_sic2.withColumn('exporters_total', lit(23108))\n",
    "exporters_smad_sic2 = exporters_smad_sic2.withColumn('smad_total', lit(44381508))\n",
    "\n",
    "exporters_smad_sic2 = exporters_smad_sic2.withColumn('exporters_percent', col('exporters_count')/col('exporters_total'))\n",
    "exporters_smad_sic2 = exporters_smad_sic2.withColumn('smad_percent', col('smad_count')/col('smad_total'))\n",
    "\n",
    "exporters_smad_sic2 = exporters_smad_sic2.withColumn('relativity', col('exporters_percent')/col('smad_percent'))"
   ]
  },
  {
   "cell_type": "code",
   "execution_count": null,
   "metadata": {
    "application/vnd.databricks.v1+cell": {
     "inputWidgets": {},
     "nuid": "534f6753-4a54-4c38-a089-1b2155e025b2",
     "showTitle": false,
     "title": ""
    }
   },
   "outputs": [],
   "source": [
    "display(exporters_smad_sic2.orderBy('relativity', ascending = False).limit(5))"
   ]
  },
  {
   "cell_type": "code",
   "execution_count": null,
   "metadata": {
    "application/vnd.databricks.v1+cell": {
     "inputWidgets": {},
     "nuid": "f3c94b2a-97ce-4c99-8e1c-b7118cd72e80",
     "showTitle": false,
     "title": ""
    }
   },
   "outputs": [],
   "source": [
    "display(exporters_smad_sic2.orderBy('relativity', ascending = True).limit(5))"
   ]
  },
  {
   "cell_type": "code",
   "execution_count": null,
   "metadata": {
    "application/vnd.databricks.v1+cell": {
     "inputWidgets": {},
     "nuid": "996f0cda-6816-48cf-bd6c-25b39d78a299",
     "showTitle": false,
     "title": ""
    }
   },
   "outputs": [],
   "source": [
    "exporters = exporters.withColumn('total_employees_group', when( (col('total_employees')>=1) & (col('total_employees')<=9), '01: 1 - 9' ).\\\n",
    "                otherwise(  when( (col('total_employees')>=10) & (col('total_employees')<=49), '02: 10 - 49' ).\\\n",
    "                otherwise(  when( (col('total_employees')>=50) & (col('total_employees')<=99), '03: 50 - 99' ).\\\n",
    "                otherwise(  when( (col('total_employees')>=100) & (col('total_employees')<=249), '04: 100 - 249' ).\\\n",
    "                otherwise(  when( (col('total_employees')>=250) & (col('total_employees')<=499), '05: 250 - 499' ).\\\n",
    "                otherwise(  when( (col('total_employees')>=500), '06: 500+' ).otherwise('07: N/A')\n",
    "                         ))))))\n",
    "\n",
    "exporters = exporters.withColumn('employees_at_location_group', when( (col('employees_at_location')>=1) & (col('employees_at_location')<=9), '01: 1 - 9' ).\\\n",
    "                otherwise(  when( (col('employees_at_location')>=10) & (col('employees_at_location')<=49), '02: 10 - 49' ).\\\n",
    "                otherwise(  when( (col('employees_at_location')>=50) & (col('employees_at_location')<=99), '03: 50 - 99' ).\\\n",
    "                otherwise(  when( (col('employees_at_location')>=100) & (col('employees_at_location')<=249), '04: 100 - 249' ).\\\n",
    "                otherwise(  when( (col('employees_at_location')>=250) & (col('employees_at_location')<=499), '05: 250 - 499' ).\\\n",
    "                otherwise(  when( (col('employees_at_location')>=500), '06: 500+' ).otherwise('07: N/A')\n",
    "                         ))))))\n",
    "\n",
    "exporters = exporters.withColumn('sales_group', when( (col('sales')>0) & (col('sales')<=50000), '01:0-50000' ).\\\n",
    "                otherwise(  when( (col('sales')>50000) & (col('sales')<=100000), '02:50000-100000' ).\\\n",
    "                otherwise(  when( (col('sales')>100000) & (col('sales')<=250000), '03:100000-250000' ).\\\n",
    "                otherwise(  when( (col('sales')>250000) & (col('sales')<=1000000), '04:250000-1000000' ).\\\n",
    "                otherwise(  when( (col('sales')>1000000) & (col('sales')<=5000000), '05:1000000-5000000' ).\\\n",
    "                otherwise(  when( (col('sales')>5000000), '06:5000000+' ).otherwise('07: N/A')\n",
    "                         ))))))"
   ]
  },
  {
   "cell_type": "code",
   "execution_count": null,
   "metadata": {
    "application/vnd.databricks.v1+cell": {
     "inputWidgets": {},
     "nuid": "11427ef3-24e4-4352-8b63-c45a7d8e13be",
     "showTitle": false,
     "title": ""
    }
   },
   "outputs": [],
   "source": [
    "display(exporters.groupBy('total_employees_group').count().orderBy('total_employees_group'))"
   ]
  },
  {
   "cell_type": "code",
   "execution_count": null,
   "metadata": {
    "application/vnd.databricks.v1+cell": {
     "inputWidgets": {},
     "nuid": "53c9395a-5f0f-447a-bec0-64427de18ee1",
     "showTitle": false,
     "title": ""
    }
   },
   "outputs": [],
   "source": [
    "display(exporters.groupBy('employees_at_location_group').count().orderBy('employees_at_location_group'))"
   ]
  },
  {
   "cell_type": "code",
   "execution_count": null,
   "metadata": {
    "application/vnd.databricks.v1+cell": {
     "inputWidgets": {},
     "nuid": "61aec62b-d06e-403c-a3bd-0eef65570604",
     "showTitle": false,
     "title": ""
    }
   },
   "outputs": [],
   "source": [
    "display(exporters.groupBy('sales_group').count().orderBy('sales_group'))"
   ]
  },
  {
   "cell_type": "code",
   "execution_count": null,
   "metadata": {
    "application/vnd.databricks.v1+cell": {
     "inputWidgets": {},
     "nuid": "c74850ce-0e0e-4364-b930-cfc128e76ab1",
     "showTitle": false,
     "title": ""
    }
   },
   "outputs": [],
   "source": [
    "display(exporters.groupBy(['total_employees_group','sales_group']).count().orderBy(['total_employees_group','sales_group']))"
   ]
  },
  {
   "cell_type": "code",
   "execution_count": null,
   "metadata": {
    "application/vnd.databricks.v1+cell": {
     "inputWidgets": {},
     "nuid": "e66736a3-5b77-48ea-ba86-c342486f0634",
     "showTitle": false,
     "title": ""
    }
   },
   "outputs": [],
   "source": []
  }
 ],
 "metadata": {
  "application/vnd.databricks.v1+notebook": {
   "dashboards": [],
   "language": "python",
   "notebookMetadata": {
    "pythonIndentUnit": 2
   },
   "notebookName": "04 Exporters Profile Analysis",
   "notebookOrigID": 1087800153289835,
   "widgets": {}
  },
  "kernelspec": {
   "display_name": "Python 3",
   "language": "python",
   "name": "python3"
  },
  "language_info": {
   "codemirror_mode": {
    "name": "ipython",
    "version": 3
   },
   "file_extension": ".py",
   "mimetype": "text/x-python",
   "name": "python",
   "nbconvert_exporter": "python",
   "pygments_lexer": "ipython3",
   "version": "3.6.5"
  }
 },
 "nbformat": 4,
 "nbformat_minor": 1
}
