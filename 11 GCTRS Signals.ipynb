{
 "cells": [
  {
   "cell_type": "code",
   "execution_count": null,
   "metadata": {
    "application/vnd.databricks.v1+cell": {
     "inputWidgets": {},
     "nuid": "490aadb1-dea4-4071-a353-81c7b2478193",
     "showTitle": false,
     "title": ""
    }
   },
   "outputs": [],
   "source": [
    "from pyspark.sql.functions import *\n",
    "from pyspark.sql.types import *"
   ]
  },
  {
   "cell_type": "code",
   "execution_count": null,
   "metadata": {
    "application/vnd.databricks.v1+cell": {
     "inputWidgets": {},
     "nuid": "cde0e85e-aa99-4527-88cd-eb0b0eed3c8f",
     "showTitle": false,
     "title": ""
    }
   },
   "outputs": [],
   "source": [
    "gbr_gctrs = spark.sql('select duns, gctrs_cnt_unq_customer_country, gctrs_cnt_unq_yrs, gctrs_ttl_signal_3yrs, ind_gctrs_3yrs, score_load_year as append_year, score_load_month as append_month from workarea.final_gbr_monthly where score_load_year in (2016, 2017) and score_load_month = 9')\n",
    "\n",
    "train = spark.sql('select * from workarea.us_export_propensity_analytic_dataset_train')\n",
    "val = spark.sql('select * from workarea.us_export_propensity_analytic_dataset_val')\n",
    "test = spark.sql('select * from workarea.us_export_propensity_analytic_dataset_test')\n",
    "\n",
    "train2 = train.join(gbr_gctrs, on = ['duns', 'append_year', 'append_month'], how = 'inner')\n",
    "val2 = val.join(gbr_gctrs, on = ['duns', 'append_year', 'append_month'], how = 'inner')\n",
    "test2 = test.join(gbr_gctrs, on = ['duns', 'append_year', 'append_month'], how = 'inner')\n",
    "\n",
    "train2.write.mode('overwrite').saveAsTable('workarea.us_export_propensity_analytic_dataset_train_gctrs')\n",
    "val2.write.mode('overwrite').saveAsTable('workarea.us_export_propensity_analytic_dataset_val_gctrs')\n",
    "test2.write.mode('overwrite').saveAsTable('workarea.us_export_propensity_analytic_dataset_test_gctrs')"
   ]
  }
 ],
 "metadata": {
  "application/vnd.databricks.v1+notebook": {
   "dashboards": [],
   "language": "python",
   "notebookMetadata": {
    "pythonIndentUnit": 2
   },
   "notebookName": "11 GCTRS Signals",
   "notebookOrigID": 1352032504132146,
   "widgets": {}
  },
  "kernelspec": {
   "display_name": "Python 3",
   "language": "python",
   "name": "python3"
  },
  "language_info": {
   "codemirror_mode": {
    "name": "ipython",
    "version": 3
   },
   "file_extension": ".py",
   "mimetype": "text/x-python",
   "name": "python",
   "nbconvert_exporter": "python",
   "pygments_lexer": "ipython3",
   "version": "3.6.5"
  }
 },
 "nbformat": 4,
 "nbformat_minor": 1
}
